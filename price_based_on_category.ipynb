{
 "cells": [
  {
   "cell_type": "code",
   "execution_count": 1,
   "metadata": {
    "collapsed": true
   },
   "outputs": [],
   "source": [
    "import pandas as pd\n",
    "import numpy as np\n",
    "\n",
    "# Get a random sample from the training set\n",
    "# data = pd.read_table('/Users/David/Desktop/Mercari/train.tsv')\n",
    "# data_nrows = data.shape[0]\n",
    "# data['random'] = pd.Series(np.random.randn(data_nrows), index=data.index)\n",
    "# sorted_data = data.sort_values(by=['random'])\n",
    "# random_sample = sorted_data.head(148254)\n",
    "# random_sample.to_csv(\"/Users/David/Desktop/Mercari/random_sample.tsv\", sep='\\t', index=False)\n",
    "\n",
    "# Load random sample after it's been written for the first time\n",
    "random_sample = pd.read_table('/Users/David/Desktop/Mercari/random_sample.tsv')\n",
    "\n",
    "# Load category metadata and get expected price per item based on category\n",
    "categories = pd.read_table('/Users/David/Desktop/Mercari/statsBySubcategory.csv', sep=\",\")\n",
    "\n",
    "# Predict price based on category\n",
    "predictions = random_sample.set_index('category_name').join(categories.set_index('Category'), how='left')\n",
    "deviations = abs(predictions['price'] - predictions['Median']) / predictions['price']\n",
    "\n",
    "# Return an estimate of accuracy of predictions\n",
    "import math\n",
    "accuracy = 1 - np.median(list(filter(lambda deviation: not math.isnan(deviation), deviations)))"
   ]
  },
  {
   "cell_type": "code",
   "execution_count": 2,
   "metadata": {},
   "outputs": [
    {
     "data": {
      "text/plain": [
       "0.59999999999999998"
      ]
     },
     "execution_count": 2,
     "metadata": {},
     "output_type": "execute_result"
    }
   ],
   "source": [
    "accuracy"
   ]
  },
  {
   "cell_type": "code",
   "execution_count": 1,
   "metadata": {},
   "outputs": [
    {
     "ename": "NameError",
     "evalue": "name 'accuracy' is not defined",
     "output_type": "error",
     "traceback": [
      "\u001b[0;31m---------------------------------------------------------------------------\u001b[0m",
      "\u001b[0;31mNameError\u001b[0m                                 Traceback (most recent call last)",
      "\u001b[0;32m<ipython-input-1-f67ae9ba6c58>\u001b[0m in \u001b[0;36m<module>\u001b[0;34m()\u001b[0m\n\u001b[0;32m----> 1\u001b[0;31m \u001b[0maccuracy\u001b[0m\u001b[0;34m\u001b[0m\u001b[0m\n\u001b[0m",
      "\u001b[0;31mNameError\u001b[0m: name 'accuracy' is not defined"
     ]
    }
   ],
   "source": [
    "accuracy"
   ]
  },
  {
   "cell_type": "code",
   "execution_count": null,
   "metadata": {
    "collapsed": true
   },
   "outputs": [],
   "source": []
  }
 ],
 "metadata": {
  "kernelspec": {
   "display_name": "Python 3",
   "language": "python",
   "name": "python3"
  },
  "language_info": {
   "codemirror_mode": {
    "name": "ipython",
    "version": 3
   },
   "file_extension": ".py",
   "mimetype": "text/x-python",
   "name": "python",
   "nbconvert_exporter": "python",
   "pygments_lexer": "ipython3",
   "version": "3.6.3"
  }
 },
 "nbformat": 4,
 "nbformat_minor": 2
}
