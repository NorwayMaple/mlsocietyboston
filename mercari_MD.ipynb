{
 "cells": [
  {
   "cell_type": "code",
   "execution_count": 3,
   "metadata": {
    "collapsed": true
   },
   "outputs": [],
   "source": [
    "import pandas as pd\n",
    "import numpy as np\n",
    "import matplotlib.pyplot as plt\n",
    "\n",
    "%matplotlib inline\n"
   ]
  },
  {
   "cell_type": "code",
   "execution_count": 4,
   "metadata": {
    "collapsed": false
   },
   "outputs": [
    {
     "name": "stdout",
     "output_type": "stream",
     "text": [
      "['sample_submission.csv', 'test.tsv', 'train.tsv', 'zipped']\n"
     ]
    }
   ],
   "source": [
    "import os\n",
    "print(os.listdir('./input'))\n"
   ]
  },
  {
   "cell_type": "code",
   "execution_count": 8,
   "metadata": {
    "collapsed": true
   },
   "outputs": [],
   "source": [
    "train_df = pd.read_table(\"./input/train.tsv\")"
   ]
  },
  {
   "cell_type": "code",
   "execution_count": 61,
   "metadata": {
    "collapsed": false
   },
   "outputs": [
    {
     "data": {
      "text/html": [
       "<div>\n",
       "<style>\n",
       "    .dataframe thead tr:only-child th {\n",
       "        text-align: right;\n",
       "    }\n",
       "\n",
       "    .dataframe thead th {\n",
       "        text-align: left;\n",
       "    }\n",
       "\n",
       "    .dataframe tbody tr th {\n",
       "        vertical-align: top;\n",
       "    }\n",
       "</style>\n",
       "<table border=\"1\" class=\"dataframe\">\n",
       "  <thead>\n",
       "    <tr style=\"text-align: right;\">\n",
       "      <th></th>\n",
       "      <th>train_id</th>\n",
       "      <th>name</th>\n",
       "      <th>item_condition_id</th>\n",
       "      <th>category_name</th>\n",
       "      <th>brand_name</th>\n",
       "      <th>price</th>\n",
       "      <th>shipping</th>\n",
       "      <th>item_description</th>\n",
       "      <th>category_oneLevel</th>\n",
       "      <th>category_twoLevel</th>\n",
       "      <th>category_threeLevel</th>\n",
       "    </tr>\n",
       "  </thead>\n",
       "  <tbody>\n",
       "    <tr>\n",
       "      <th>0</th>\n",
       "      <td>0</td>\n",
       "      <td>MLB Cincinnati Reds T Shirt Size XL</td>\n",
       "      <td>3</td>\n",
       "      <td>Men/Tops/T-shirts</td>\n",
       "      <td>NaN</td>\n",
       "      <td>10.0</td>\n",
       "      <td>1</td>\n",
       "      <td>No description yet</td>\n",
       "      <td>Men</td>\n",
       "      <td>Men/Tops</td>\n",
       "      <td>Men/Tops/T-shirts</td>\n",
       "    </tr>\n",
       "    <tr>\n",
       "      <th>1</th>\n",
       "      <td>1</td>\n",
       "      <td>Razer BlackWidow Chroma Keyboard</td>\n",
       "      <td>3</td>\n",
       "      <td>Electronics/Computers &amp; Tablets/Components &amp; P...</td>\n",
       "      <td>Razer</td>\n",
       "      <td>52.0</td>\n",
       "      <td>0</td>\n",
       "      <td>This keyboard is in great condition and works ...</td>\n",
       "      <td>Electronics</td>\n",
       "      <td>Electronics/Computers &amp; Tablets</td>\n",
       "      <td>Electronics/Computers &amp; Tablets/Components &amp; P...</td>\n",
       "    </tr>\n",
       "    <tr>\n",
       "      <th>2</th>\n",
       "      <td>2</td>\n",
       "      <td>AVA-VIV Blouse</td>\n",
       "      <td>1</td>\n",
       "      <td>Women/Tops &amp; Blouses/Blouse</td>\n",
       "      <td>Target</td>\n",
       "      <td>10.0</td>\n",
       "      <td>1</td>\n",
       "      <td>Adorable top with a hint of lace and a key hol...</td>\n",
       "      <td>Women</td>\n",
       "      <td>Women/Tops &amp; Blouses</td>\n",
       "      <td>Women/Tops &amp; Blouses/Blouse</td>\n",
       "    </tr>\n",
       "    <tr>\n",
       "      <th>3</th>\n",
       "      <td>3</td>\n",
       "      <td>Leather Horse Statues</td>\n",
       "      <td>1</td>\n",
       "      <td>Home/Home Décor/Home Décor Accents</td>\n",
       "      <td>NaN</td>\n",
       "      <td>35.0</td>\n",
       "      <td>1</td>\n",
       "      <td>New with tags. Leather horses. Retail for [rm]...</td>\n",
       "      <td>Home</td>\n",
       "      <td>Home/Home Décor</td>\n",
       "      <td>Home/Home Décor/Home Décor Accents</td>\n",
       "    </tr>\n",
       "    <tr>\n",
       "      <th>4</th>\n",
       "      <td>4</td>\n",
       "      <td>24K GOLD plated rose</td>\n",
       "      <td>1</td>\n",
       "      <td>Women/Jewelry/Necklaces</td>\n",
       "      <td>NaN</td>\n",
       "      <td>44.0</td>\n",
       "      <td>0</td>\n",
       "      <td>Complete with certificate of authenticity</td>\n",
       "      <td>Women</td>\n",
       "      <td>Women/Jewelry</td>\n",
       "      <td>Women/Jewelry/Necklaces</td>\n",
       "    </tr>\n",
       "  </tbody>\n",
       "</table>\n",
       "</div>"
      ],
      "text/plain": [
       "   train_id                                 name  item_condition_id  \\\n",
       "0         0  MLB Cincinnati Reds T Shirt Size XL                  3   \n",
       "1         1     Razer BlackWidow Chroma Keyboard                  3   \n",
       "2         2                       AVA-VIV Blouse                  1   \n",
       "3         3                Leather Horse Statues                  1   \n",
       "4         4                 24K GOLD plated rose                  1   \n",
       "\n",
       "                                       category_name brand_name  price  \\\n",
       "0                                  Men/Tops/T-shirts        NaN   10.0   \n",
       "1  Electronics/Computers & Tablets/Components & P...      Razer   52.0   \n",
       "2                        Women/Tops & Blouses/Blouse     Target   10.0   \n",
       "3                 Home/Home Décor/Home Décor Accents        NaN   35.0   \n",
       "4                            Women/Jewelry/Necklaces        NaN   44.0   \n",
       "\n",
       "   shipping                                   item_description  \\\n",
       "0         1                                 No description yet   \n",
       "1         0  This keyboard is in great condition and works ...   \n",
       "2         1  Adorable top with a hint of lace and a key hol...   \n",
       "3         1  New with tags. Leather horses. Retail for [rm]...   \n",
       "4         0          Complete with certificate of authenticity   \n",
       "\n",
       "  category_oneLevel                category_twoLevel  \\\n",
       "0               Men                         Men/Tops   \n",
       "1       Electronics  Electronics/Computers & Tablets   \n",
       "2             Women             Women/Tops & Blouses   \n",
       "3              Home                  Home/Home Décor   \n",
       "4             Women                    Women/Jewelry   \n",
       "\n",
       "                                 category_threeLevel  \n",
       "0                                  Men/Tops/T-shirts  \n",
       "1  Electronics/Computers & Tablets/Components & P...  \n",
       "2                        Women/Tops & Blouses/Blouse  \n",
       "3                 Home/Home Décor/Home Décor Accents  \n",
       "4                            Women/Jewelry/Necklaces  "
      ]
     },
     "execution_count": 61,
     "metadata": {},
     "output_type": "execute_result"
    }
   ],
   "source": [
    "train_df.head()"
   ]
  },
  {
   "cell_type": "code",
   "execution_count": 10,
   "metadata": {
    "collapsed": false
   },
   "outputs": [
    {
     "data": {
      "text/html": [
       "<div>\n",
       "<style>\n",
       "    .dataframe thead tr:only-child th {\n",
       "        text-align: right;\n",
       "    }\n",
       "\n",
       "    .dataframe thead th {\n",
       "        text-align: left;\n",
       "    }\n",
       "\n",
       "    .dataframe tbody tr th {\n",
       "        vertical-align: top;\n",
       "    }\n",
       "</style>\n",
       "<table border=\"1\" class=\"dataframe\">\n",
       "  <thead>\n",
       "    <tr style=\"text-align: right;\">\n",
       "      <th></th>\n",
       "      <th>train_id</th>\n",
       "      <th>item_condition_id</th>\n",
       "      <th>price</th>\n",
       "      <th>shipping</th>\n",
       "    </tr>\n",
       "  </thead>\n",
       "  <tbody>\n",
       "    <tr>\n",
       "      <th>count</th>\n",
       "      <td>593376.000000</td>\n",
       "      <td>593376.000000</td>\n",
       "      <td>593376.000000</td>\n",
       "      <td>593376.000000</td>\n",
       "    </tr>\n",
       "    <tr>\n",
       "      <th>mean</th>\n",
       "      <td>296687.500000</td>\n",
       "      <td>1.907738</td>\n",
       "      <td>26.689003</td>\n",
       "      <td>0.446294</td>\n",
       "    </tr>\n",
       "    <tr>\n",
       "      <th>std</th>\n",
       "      <td>171293.041002</td>\n",
       "      <td>0.902921</td>\n",
       "      <td>38.340061</td>\n",
       "      <td>0.497108</td>\n",
       "    </tr>\n",
       "    <tr>\n",
       "      <th>min</th>\n",
       "      <td>0.000000</td>\n",
       "      <td>1.000000</td>\n",
       "      <td>0.000000</td>\n",
       "      <td>0.000000</td>\n",
       "    </tr>\n",
       "    <tr>\n",
       "      <th>25%</th>\n",
       "      <td>148343.750000</td>\n",
       "      <td>1.000000</td>\n",
       "      <td>10.000000</td>\n",
       "      <td>0.000000</td>\n",
       "    </tr>\n",
       "    <tr>\n",
       "      <th>50%</th>\n",
       "      <td>296687.500000</td>\n",
       "      <td>2.000000</td>\n",
       "      <td>17.000000</td>\n",
       "      <td>0.000000</td>\n",
       "    </tr>\n",
       "    <tr>\n",
       "      <th>75%</th>\n",
       "      <td>445031.250000</td>\n",
       "      <td>3.000000</td>\n",
       "      <td>29.000000</td>\n",
       "      <td>1.000000</td>\n",
       "    </tr>\n",
       "    <tr>\n",
       "      <th>max</th>\n",
       "      <td>593375.000000</td>\n",
       "      <td>5.000000</td>\n",
       "      <td>2000.000000</td>\n",
       "      <td>1.000000</td>\n",
       "    </tr>\n",
       "  </tbody>\n",
       "</table>\n",
       "</div>"
      ],
      "text/plain": [
       "            train_id  item_condition_id          price       shipping\n",
       "count  593376.000000      593376.000000  593376.000000  593376.000000\n",
       "mean   296687.500000           1.907738      26.689003       0.446294\n",
       "std    171293.041002           0.902921      38.340061       0.497108\n",
       "min         0.000000           1.000000       0.000000       0.000000\n",
       "25%    148343.750000           1.000000      10.000000       0.000000\n",
       "50%    296687.500000           2.000000      17.000000       0.000000\n",
       "75%    445031.250000           3.000000      29.000000       1.000000\n",
       "max    593375.000000           5.000000    2000.000000       1.000000"
      ]
     },
     "execution_count": 10,
     "metadata": {},
     "output_type": "execute_result"
    }
   ],
   "source": [
    "train_df.describe()"
   ]
  },
  {
   "cell_type": "code",
   "execution_count": 58,
   "metadata": {
    "collapsed": true
   },
   "outputs": [],
   "source": [
    "a, b, c, d = train_df['category_name'].str.split(\"/\", 3).str\n",
    "category_oneLevel = a\n",
    "category_twoLevel = a + \"/\" + b\n",
    "category_threeLevel = a + \"/\" + b + \"/\" + c\n",
    "train_df['category_oneLevel'] = category_oneLevel\n",
    "train_df['category_twoLevel'] = category_twoLevel\n",
    "train_df['category_threeLevel'] = category_threeLevel"
   ]
  },
  {
   "cell_type": "code",
   "execution_count": 60,
   "metadata": {
    "collapsed": true
   },
   "outputs": [],
   "source": []
  },
  {
   "cell_type": "code",
   "execution_count": 55,
   "metadata": {
    "collapsed": false
   },
   "outputs": [
    {
     "name": "stdout",
     "output_type": "stream",
     "text": [
      "0                                         Men/Tops/T-shirts\n",
      "1         Electronics/Computers & Tablets/Components & P...\n",
      "2                               Women/Tops & Blouses/Blouse\n",
      "3                        Home/Home Décor/Home Décor Accents\n",
      "4                                   Women/Jewelry/Necklaces\n",
      "5                                         Women/Other/Other\n",
      "6                                  Women/Swimwear/Two-Piece\n",
      "7                           Sports & Outdoors/Apparel/Girls\n",
      "8                           Sports & Outdoors/Apparel/Girls\n",
      "9                  Vintage & Collectibles/Collectibles/Doll\n",
      "10                                       Beauty/Makeup/Face\n",
      "11                                   Beauty/Fragrance/Women\n",
      "12                           Women/Dresses/Above Knee, Mini\n",
      "13                    Other/Office supplies/School Supplies\n",
      "14                                        Women/Shoes/Boots\n",
      "15                                Beauty/Makeup/Makeup Sets\n",
      "16                                       Beauty/Makeup/Eyes\n",
      "17                           Kids/Gear/Backpacks & Carriers\n",
      "18                            Beauty/Makeup/Makeup Palettes\n",
      "19                              Women/Tops & Blouses/Blouse\n",
      "20                          Women/Tops & Blouses/Tank, Cami\n",
      "21                       Women/Athletic Apparel/Sports Bras\n",
      "22        Electronics/Cell Phones & Accessories/Cell Pho...\n",
      "23        Electronics/Cell Phones & Accessories/Chargers...\n",
      "24                            Women/Tops & Blouses/T-Shirts\n",
      "25                                       Men/Shoes/Athletic\n",
      "26        Electronics/Cell Phones & Accessories/Cases, C...\n",
      "27           Women/Athletic Apparel/Pants, Tights, Leggings\n",
      "28                                 Women/Swimwear/One-Piece\n",
      "29                                     Women/Jeans/Boot Cut\n",
      "                                ...                        \n",
      "593346                   Kids/Boys 0-24 Mos/Tops & T-Shirts\n",
      "593347                       Beauty/Hair Care/Styling Tools\n",
      "593348                                Kids/Boys 2T-5T/Other\n",
      "593349                       Home/Kitchen & Dining/Cookware\n",
      "593350             Electronics/Video Games & Consoles/Games\n",
      "593351                              Women/Underwear/Panties\n",
      "593352         Kids/Toys/Toy Remote Control & Play Vehicles\n",
      "593353             Other/Daily & Travel items/Personal Care\n",
      "593354                                   Beauty/Makeup/Lips\n",
      "593355       Women/Athletic Apparel/Pants, Tights, Leggings\n",
      "593356                    Beauty/Tools & Accessories/Waxing\n",
      "593357                       Beauty/Skin Care/Hands & Nails\n",
      "593358                               Women/Jewelry/Earrings\n",
      "593359                             Kids/Girls 2T-5T/Bottoms\n",
      "593360                                   Beauty/Makeup/Face\n",
      "593361                                   Beauty/Makeup/Face\n",
      "593362                               Beauty/Fragrance/Women\n",
      "593363               Vintage & Collectibles/Serving/Tumbler\n",
      "593364                           Women/Tops & Blouses/Tunic\n",
      "593365                                   Beauty/Makeup/Lips\n",
      "593366                        Beauty/Makeup/Makeup Palettes\n",
      "593367            Home/Cleaning Supplies/Household Cleaners\n",
      "593368              Women/Women's Handbags/Totes & Shoppers\n",
      "593369             Electronics/Video Games & Consoles/Games\n",
      "593370                       Women/Dresses/Asymmetrical Hem\n",
      "593371     Home/Kitchen & Dining/Kitchen Utensils & Gadgets\n",
      "593372                    Kids/Toys/Stuffed Animals & Plush\n",
      "593373             Electronics/Video Games & Consoles/Games\n",
      "593374                  Women/Women's Handbags/Shoulder Bag\n",
      "593375                   Women/Athletic Apparel/Sports Bras\n",
      "Name: category_name, Length: 593376, dtype: object\n"
     ]
    }
   ],
   "source": []
  },
  {
   "cell_type": "code",
   "execution_count": null,
   "metadata": {
    "collapsed": true
   },
   "outputs": [],
   "source": []
  }
 ],
 "metadata": {
  "kernelspec": {
   "display_name": "Python 3",
   "language": "python",
   "name": "python3"
  },
  "language_info": {
   "codemirror_mode": {
    "name": "ipython",
    "version": 3
   },
   "file_extension": ".py",
   "mimetype": "text/x-python",
   "name": "python",
   "nbconvert_exporter": "python",
   "pygments_lexer": "ipython3",
   "version": "3.6.0"
  }
 },
 "nbformat": 4,
 "nbformat_minor": 2
}
